{
 "cells": [
  {
   "cell_type": "markdown",
   "metadata": {},
   "source": [
    "# Using Built-in Functions in OG-Core"
   ]
  },
  {
   "cell_type": "code",
   "execution_count": 2,
   "metadata": {},
   "outputs": [],
   "source": [
    "# Import packages\n",
    "import numpy as np\n",
    "# import ogcore\n",
    "import os\n",
    "import json\n",
    "import pickle"
   ]
  },
  {
   "cell_type": "code",
   "execution_count": null,
   "metadata": {},
   "outputs": [],
   "source": [
    "!pip install ogcore"
   ]
  },
  {
   "cell_type": "code",
   "execution_count": null,
   "metadata": {},
   "outputs": [],
   "source": [
    "# Import packages\n",
    "import numpy as np\n",
    "# import pandas as pd\n",
    "import os\n",
    "import pickle\n",
    "from ogcore.parameters import Specifications\n",
    "from ogcore.execute import runner\n",
    "import ogcore.output_plots as op\n",
    "import ogcore.output_tables as ot\n",
    "import ogcore.demographics as demog\n",
    "from ogcore.utils import safe_read_pickle\n",
    "\n",
    "import matplotlib.pyplot as plt\n",
    "\n",
    "# set plot style\n",
    "plt.style.use(\"ogcore.OGcorePlots\")"
   ]
  },
  {
   "cell_type": "code",
   "execution_count": null,
   "metadata": {},
   "outputs": [],
   "source": [
    "# Load baseline and reform parameters, steady-state, and transition path\n",
    "# objects\n",
    "base_path = (\n",
    "    r\"C:\\Users\\RS\\repos\\OG-IDN\\Output\" +\n",
    "    \"\\BASELINE\"\n",
    ")\n",
    "ref_path = (\n",
    "    r\"C:\\Users\\RS\\repos\\OG-IDN\\Output\" +\n",
    "    \"\\FreeEducation\"\n",
    ")\n",
    "p_bas = pickle.load(open(os.path.join(base_path, \"model_params.pkl\"), \"rb\"))\n",
    "p_ref = pickle.load(open(os.path.join(ref_path, \"model_params.pkl\"), \"rb\"))\n",
    "ss_vars_bas = pickle.load(\n",
    "    open(os.path.join(base_path, \"SS\", \"SS_vars.pkl\"), \"rb\")\n",
    ")\n",
    "ss_vars_ref = pickle.load(\n",
    "    open(os.path.join(ref_path, \"SS\", \"SS_vars.pkl\"), \"rb\")\n",
    ")\n",
    "tpi_vars_bas = pickle.load(\n",
    "    open(os.path.join(base_path, \"TPI\", \"TPI_vars.pkl\"), \"rb\")\n",
    ")\n",
    "tpi_vars_ref = pickle.load(\n",
    "    open(os.path.join(ref_path, \"TPI\", \"TPI_vars.pkl\"), \"rb\")\n",
    ")"
   ]
  },
  {
   "cell_type": "markdown",
   "metadata": {},
   "source": [
    "## 1. Output_plots.py\n",
    "Let's look at the [`ogcore/output_plots.py`](https://github.com/PSLmodels/OG-Core/blob/master/ogcore/output_plots.py) module. We have imported this module above with the `import ogcore.output_plots as op` line.\n",
    "\n",
    "The input arguments for the [`plot_aggregates()`](https://pslmodels.github.io/OG-Core/content/api/output_plots.html) function can be found in the Python API documentation for OG-Core.\n",
    "\n",
    "```python\n",
    "plot_aggregates(\n",
    "    base_tpi,\n",
    "    base_params,\n",
    "    reform_tpi=None,\n",
    "    reform_params=None,\n",
    "    var_list=[\"Y\", \"C\", \"K\", \"L\"],\n",
    "    plot_type=\"pct_diff\",\n",
    "    stationarized=True,\n",
    "    num_years_to_plot=50,\n",
    "    start_year=DEFAULT_START_YEAR,\n",
    "    forecast_data=None,\n",
    "    forecast_units=None,\n",
    "    vertical_line_years=None,\n",
    "    plot_title=None,\n",
    "    path=None,\n",
    ")\n",
    "```"
   ]
  },
  {
   "cell_type": "code",
   "execution_count": null,
   "metadata": {},
   "outputs": [],
   "source": [
    "fig1 = op.plot_aggregates(\n",
    "    tpi_vars_bas, p_bas, tpi_vars_ref, p_ref, var_list=[\"Y\", \"K\", \"L\"],\n",
    "    plot_type=\"pct_diff\", num_years_to_plot=15,\n",
    "    vertical_line_years=[2029],\n",
    "    plot_title=\"I absolutely love this plot\"\n",
    ")"
   ]
  },
  {
   "cell_type": "markdown",
   "metadata": {},
   "source": [
    "The [`ability_bar()`](https://pslmodels.github.io/OG-Core/content/api/output_plots.html) plot shows percentage change in variables in the first number of years.\n",
    "\n",
    "```python\n",
    "ability_bar(\n",
    "    base_tpi,\n",
    "    base_params,\n",
    "    reform_tpi,\n",
    "    reform_params,\n",
    "    var=\"n\",\n",
    "    num_years=5,\n",
    "    start_year=DEFAULT_START_YEAR,\n",
    "    plot_title=None,\n",
    "    path=None,\n",
    ")\n",
    "```\n",
    "\n",
    "The variable `var=` input needs to be one of the variables in the TPI object that varies by ability (e.g., `bmat_splus1`, `bmat_s`, `n_mat`, `c_path`, `bq_path`, `rm_path`, `tr_path`)"
   ]
  },
  {
   "cell_type": "code",
   "execution_count": null,
   "metadata": {},
   "outputs": [],
   "source": [
    "tpi_vars_bas.keys()"
   ]
  },
  {
   "cell_type": "code",
   "execution_count": null,
   "metadata": {},
   "outputs": [],
   "source": [
    "fig2 = op.ability_bar(\n",
    "    tpi_vars_bas, p_bas, tpi_vars_ref, p_ref, var=\"b_sp1\", num_years=5,\n",
    "    start_year=p_bas.start_year+5,\n",
    "    plot_title=\"Average savings percent change by ability type: 2030-2035\"\n",
    ")"
   ]
  },
  {
   "cell_type": "markdown",
   "metadata": {},
   "source": [
    "The other main plotting function [`plot_gdp_ratio()`](https://pslmodels.github.io/OG-Core/content/api/output_plots.html) is for plotting variables as a percent of GDP.\n",
    "\n",
    "```python\n",
    "plot_gdp_ratio(\n",
    "    base_tpi,\n",
    "    base_params,\n",
    "    reform_tpi=None,\n",
    "    reform_params=None,\n",
    "    var_list=[\"D\"],\n",
    "    plot_type=\"levels\",\n",
    "    num_years_to_plot=50,\n",
    "    start_year=DEFAULT_START_YEAR,\n",
    "    vertical_line_years=None,\n",
    "    plot_title=None,\n",
    "    path=None,\n",
    ")\n",
    "```"
   ]
  },
  {
   "cell_type": "code",
   "execution_count": null,
   "metadata": {},
   "outputs": [],
   "source": [
    "fig3 = op.plot_gdp_ratio(\n",
    "    tpi_vars_bas, p_bas, tpi_vars_ref, p_ref, var_list=[\"D\", \"TR\"], num_years_to_plot=50,\n",
    "    start_year=p_bas.start_year, plot_type=\"diff\",\n",
    "    vertical_line_years=[p_bas.start_year + p_bas.tG1, p_bas.start_year + p_bas.tG2],\n",
    "    plot_title=\"Debt-to-GDP ratio and Transfers/GDP: 2025-2075\"\n",
    ")"
   ]
  },
  {
   "cell_type": "markdown",
   "metadata": {},
   "source": [
    "Inequality time series plot [`inequality_plot()`](https://pslmodels.github.io/OG-Core/content/api/output_plots.html)\n",
    "\n",
    "```python\n",
    "inequality_plot(\n",
    "    base_tpi,\n",
    "    base_params,\n",
    "    reform_tpi=None,\n",
    "    reform_params=None,\n",
    "    var=\"c_path\",\n",
    "    ineq_measure=\"gini\",\n",
    "    pctiles=None,\n",
    "    plot_type=\"levels\",\n",
    "    num_years_to_plot=50,\n",
    "    start_year=DEFAULT_START_YEAR,\n",
    "    vertical_line_years=None,\n",
    "    plot_title=None,\n",
    "    path=None,\n",
    ")\n",
    "```"
   ]
  },
  {
   "cell_type": "code",
   "execution_count": null,
   "metadata": {},
   "outputs": [],
   "source": [
    "fig4 = op.inequality_plot(\n",
    "    tpi_vars_bas, p_bas, tpi_vars_ref, p_ref, var=\"before_tax_income\",\n",
    "    ineq_measure=\"gini\", plot_type=\"levels\", num_years_to_plot=50,\n",
    "    start_year=p_bas.start_year,\n",
    "    vertical_line_years=[p_bas.start_year + p_bas.tG1, p_bas.start_year + p_bas.tG2],\n",
    "    plot_title=\"Gini coefficient income inequality time series: 2025-2075\"\n",
    ")"
   ]
  },
  {
   "cell_type": "markdown",
   "metadata": {},
   "source": [
    "## 2. demographics.py"
   ]
  },
  {
   "cell_type": "code",
   "execution_count": null,
   "metadata": {},
   "outputs": [],
   "source": [
    "fert_rates, fig = demog.get_fert(\n",
    "    totpers=100,\n",
    "    min_age=0,\n",
    "    max_age=99,\n",
    "    country_id=\"360\",  # Indonesia is \"360\"; South Africa is \"710\"; USA is \"840\"\n",
    "    start_year=2022,\n",
    "    end_year=2022,\n",
    "    graph=True,\n",
    "    plot_path=None,\n",
    "    download_path=None,\n",
    ")"
   ]
  },
  {
   "cell_type": "code",
   "execution_count": null,
   "metadata": {},
   "outputs": [],
   "source": [
    "fert_rates, fig = demog.get_fert(\n",
    "    totpers=100,\n",
    "    min_age=0,\n",
    "    max_age=99,\n",
    "    country_id=\"840\",  # South Africa is \"710\"; USA is \"840\"\n",
    "    start_year=2022,\n",
    "    end_year=2022,\n",
    "    graph=True,\n",
    "    plot_path=None,\n",
    "    download_path=None,\n",
    ")"
   ]
  },
  {
   "cell_type": "code",
   "execution_count": null,
   "metadata": {},
   "outputs": [],
   "source": [
    "mort_rates_idn, inf_mort_idn, fig = demog.get_mort(\n",
    "    totpers=100,\n",
    "    min_age=0,\n",
    "    max_age=99,\n",
    "    country_id=\"360\",  # Indonesia is \"360\"; South Africa is \"710\"; USA is \"840\"\n",
    "    start_year=2022,\n",
    "    end_year=2022,\n",
    "    graph=True,\n",
    "    plot_path=None,\n",
    "    download_path=None,\n",
    ")"
   ]
  },
  {
   "cell_type": "code",
   "execution_count": null,
   "metadata": {},
   "outputs": [],
   "source": [
    "mort_rates_usa, inf_mort_usa, fig = demog.get_mort(\n",
    "    totpers=100,\n",
    "    min_age=0,\n",
    "    max_age=99,\n",
    "    country_id=\"840\",  # Indonesia is \"360\"; South Africa is \"710\"; USA is \"840\"\n",
    "    start_year=2022,\n",
    "    end_year=2022,\n",
    "    graph=True,\n",
    "    plot_path=None,\n",
    "    download_path=None,\n",
    ")"
   ]
  },
  {
   "cell_type": "code",
   "execution_count": null,
   "metadata": {},
   "outputs": [],
   "source": [
    "mort_rates_zaf, inf_mort_zaf, fig = demog.get_mort(\n",
    "    totpers=100,\n",
    "    min_age=0,\n",
    "    max_age=99,\n",
    "    country_id=\"710\",  # Indonesia is \"360\"; South Africa is \"710\"; USA is \"840\"\n",
    "    start_year=2022,\n",
    "    end_year=2022,\n",
    "    graph=True,\n",
    "    plot_path=None,\n",
    "    download_path=None,\n",
    ")"
   ]
  },
  {
   "cell_type": "code",
   "execution_count": null,
   "metadata": {},
   "outputs": [],
   "source": [
    "mort_rates_ind, inf_mort_ind, fig = demog.get_mort(\n",
    "    totpers=100,\n",
    "    min_age=0,\n",
    "    max_age=99,\n",
    "    country_id=\"356\",  # Indonesia is \"360\"; South Africa is \"710\"; USA is \"840\"\n",
    "    start_year=2022,\n",
    "    end_year=2022,\n",
    "    graph=True,\n",
    "    plot_path=None,\n",
    "    download_path=None,\n",
    ")"
   ]
  },
  {
   "cell_type": "code",
   "execution_count": null,
   "metadata": {},
   "outputs": [],
   "source": [
    "mort_rates_phl, inf_mort_phl, fig = demog.get_mort(\n",
    "    totpers=100,\n",
    "    min_age=0,\n",
    "    max_age=99,\n",
    "    country_id=\"608\",  # Indonesia is \"360\"; South Africa is \"710\"; USA is \"840\"\n",
    "    start_year=2022,\n",
    "    end_year=2022,\n",
    "    graph=True,\n",
    "    plot_path=None,\n",
    "    download_path=None,\n",
    ")"
   ]
  },
  {
   "cell_type": "code",
   "execution_count": null,
   "metadata": {},
   "outputs": [],
   "source": [
    "plt.plot(np.arange(40), mort_rates_usa[0,:40], label=\"USA\")\n",
    "plt.plot(np.arange(40), mort_rates_idn[0,:40], label=\"Indonesia\")\n",
    "plt.plot(np.arange(40), mort_rates_zaf[0,:40], label=\"South Africa\")\n",
    "plt.plot(np.arange(40), mort_rates_ind[0,:40], label=\"India\")\n",
    "plt.plot(np.arange(40), mort_rates_phl[0,:40], label=\"Philippines\")\n",
    "plt.legend()\n",
    "plt.show()"
   ]
  },
  {
   "cell_type": "code",
   "execution_count": null,
   "metadata": {},
   "outputs": [],
   "source": []
  }
 ],
 "metadata": {
  "kernelspec": {
   "display_name": "ogidn-dev",
   "language": "python",
   "name": "python3"
  },
  "language_info": {
   "codemirror_mode": {
    "name": "ipython",
    "version": 3
   },
   "file_extension": ".py",
   "mimetype": "text/x-python",
   "name": "python",
   "nbconvert_exporter": "python",
   "pygments_lexer": "ipython3",
   "version": "3.11.11"
  }
 },
 "nbformat": 4,
 "nbformat_minor": 2
}
